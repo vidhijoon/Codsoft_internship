{
 "cells": [
  {
   "cell_type": "code",
   "execution_count": 2,
   "id": "96484eb1-0432-498e-a213-9ed7e29dac70",
   "metadata": {},
   "outputs": [
    {
     "name": "stdin",
     "output_type": "stream",
     "text": [
      "Enter rock, paper, or scissors (or 'exit' to quit):  rock\n"
     ]
    },
    {
     "name": "stdout",
     "output_type": "stream",
     "text": [
      "Computer chose: paper\n",
      "Computer wins!\n"
     ]
    },
    {
     "name": "stdin",
     "output_type": "stream",
     "text": [
      "Enter rock, paper, or scissors (or 'exit' to quit):  exit\n"
     ]
    },
    {
     "name": "stdout",
     "output_type": "stream",
     "text": [
      "Thanks for playing!\n"
     ]
    }
   ],
   "source": [
    "import random\n",
    "\n",
    "# List of choices\n",
    "choices = [\"rock\", \"paper\", \"scissors\"]\n",
    "\n",
    "def get_winner(player, computer):\n",
    "    if player == computer:\n",
    "        return \"It's a tie!\"\n",
    "    elif (player == \"rock\" and computer == \"scissors\") or \\\n",
    "         (player == \"paper\" and computer == \"rock\") or \\\n",
    "         (player == \"scissors\" and computer == \"paper\"):\n",
    "        return \"You win!\"\n",
    "    else:\n",
    "        return \"Computer wins!\"\n",
    "\n",
    "# Game loop\n",
    "while True:\n",
    "    player_choice = input(\"Enter rock, paper, or scissors (or 'exit' to quit): \").lower()\n",
    "    if player_choice == \"exit\":\n",
    "        print(\"Thanks for playing!\")\n",
    "        break\n",
    "    if player_choice not in choices:\n",
    "        print(\"Invalid choice, try again.\")\n",
    "        continue\n",
    "    \n",
    "    computer_choice = random.choice(choices)\n",
    "    print(f\"Computer chose: {computer_choice}\")\n",
    "    \n",
    "    result = get_winner(player_choice, computer_choice)\n",
    "    print(result)"
   ]
  },
  {
   "cell_type": "code",
   "execution_count": null,
   "id": "6f96120b-4d84-410e-8a0c-4f49304fc4a1",
   "metadata": {},
   "outputs": [],
   "source": []
  }
 ],
 "metadata": {
  "kernelspec": {
   "display_name": "Python 3 (ipykernel)",
   "language": "python",
   "name": "python3"
  },
  "language_info": {
   "codemirror_mode": {
    "name": "ipython",
    "version": 3
   },
   "file_extension": ".py",
   "mimetype": "text/x-python",
   "name": "python",
   "nbconvert_exporter": "python",
   "pygments_lexer": "ipython3",
   "version": "3.13.2"
  },
  "widgets": {
   "application/vnd.jupyter.widget-state+json": {
    "state": {},
    "version_major": 2,
    "version_minor": 0
   }
  }
 },
 "nbformat": 4,
 "nbformat_minor": 5
}
