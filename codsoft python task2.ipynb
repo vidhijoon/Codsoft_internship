{
 "cells": [
  {
   "cell_type": "code",
   "execution_count": 1,
   "id": "95c8f036-b81d-4c37-9269-149ef135220e",
   "metadata": {},
   "outputs": [
    {
     "name": "stdin",
     "output_type": "stream",
     "text": [
      "Enter desired password length:  4\n"
     ]
    },
    {
     "name": "stdout",
     "output_type": "stream",
     "text": [
      "Generated password: 6'lR\n"
     ]
    }
   ],
   "source": [
    "import random\n",
    "import string\n",
    "\n",
    "def generate_password(length):\n",
    "    if length < 4:\n",
    "        return \"Password length should be at least 4.\"\n",
    "\n",
    "    # Character sets\n",
    "    letters = string.ascii_letters  # A-Z, a-z\n",
    "    digits = string.digits          # 0-9\n",
    "    symbols = string.punctuation    # !@#$%^&*() etc.\n",
    "\n",
    "    all_chars = letters + digits + symbols\n",
    "\n",
    "    # Ensure at least one character from each type\n",
    "    password = [\n",
    "        random.choice(letters),\n",
    "        random.choice(digits),\n",
    "        random.choice(symbols)\n",
    "    ]\n",
    "\n",
    "    # Fill the rest with random characters\n",
    "    password += random.choices(all_chars, k=length - 3)\n",
    "\n",
    "    # Shuffle the password list and convert to string\n",
    "    random.shuffle(password)\n",
    "    return ''.join(password)\n",
    "\n",
    "# User input\n",
    "try:\n",
    "    length = int(input(\"Enter desired password length: \"))\n",
    "    password = generate_password(length)\n",
    "    print(\"Generated password:\", password)\n",
    "except ValueError:\n",
    "    print(\"Please enter a valid number.\")"
   ]
  },
  {
   "cell_type": "code",
   "execution_count": null,
   "id": "db1b54d4-8771-47cf-befb-9810075467ea",
   "metadata": {},
   "outputs": [],
   "source": []
  }
 ],
 "metadata": {
  "kernelspec": {
   "display_name": "Python 3 (ipykernel)",
   "language": "python",
   "name": "python3"
  },
  "language_info": {
   "codemirror_mode": {
    "name": "ipython",
    "version": 3
   },
   "file_extension": ".py",
   "mimetype": "text/x-python",
   "name": "python",
   "nbconvert_exporter": "python",
   "pygments_lexer": "ipython3",
   "version": "3.13.2"
  },
  "widgets": {
   "application/vnd.jupyter.widget-state+json": {
    "state": {},
    "version_major": 2,
    "version_minor": 0
   }
  }
 },
 "nbformat": 4,
 "nbformat_minor": 5
}
