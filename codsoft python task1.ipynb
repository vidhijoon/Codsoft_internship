{
 "cells": [
  {
   "cell_type": "code",
   "execution_count": 1,
   "id": "d6342bfa-79b2-4cef-a857-e6c5d404adca",
   "metadata": {},
   "outputs": [
    {
     "name": "stdout",
     "output_type": "stream",
     "text": [
      "Simple Calculator\n"
     ]
    },
    {
     "name": "stdin",
     "output_type": "stream",
     "text": [
      "Enter operation (+, -, *, /, %):  %\n",
      "Enter first number:  200\n",
      "Enter percentage or second number:  20\n"
     ]
    },
    {
     "name": "stdout",
     "output_type": "stream",
     "text": [
      "Result: 40.0\n",
      "\n"
     ]
    },
    {
     "name": "stdin",
     "output_type": "stream",
     "text": [
      "Do you want to perform another calculation? (yes/no):  no\n"
     ]
    },
    {
     "name": "stdout",
     "output_type": "stream",
     "text": [
      "Thanks for using the calculator. Goodbye!\n"
     ]
    }
   ],
   "source": [
    "def get_number(prompt):\n",
    "    while True:\n",
    "        try:\n",
    "            return float(input(prompt))\n",
    "        except ValueError:\n",
    "            print(\"Invalid input! Please enter a number.\")\n",
    "\n",
    "def calculate(num1, num2, operation):\n",
    "    operations = {\n",
    "        '+': num1 + num2,\n",
    "        '-': num1 - num2,\n",
    "        '*': num1 * num2,\n",
    "        '/': num1 / num2 if num2 != 0 else \"Error! Division by zero.\",\n",
    "        '%': (num1 * num2) / 100  # Proper percentage calculation\n",
    "    }\n",
    "    return operations.get(operation, \"Invalid operation\")\n",
    "\n",
    "def calculator():\n",
    "    print(\"Simple Calculator\")\n",
    "    \n",
    "    while True:\n",
    "        operation = input(\"Enter operation (+, -, *, /, %): \")\n",
    "        if operation.lower() == 'exit':\n",
    "            print(\"Goodbye!\")\n",
    "            break\n",
    "        \n",
    "        if operation not in ['+', '-', '*', '/', '%']:\n",
    "            print(\"Invalid operation! Please enter +, -, *, /, or %.\")\n",
    "            continue\n",
    "\n",
    "        num1 = get_number(\"Enter first number: \")\n",
    "        num2 = get_number(\"Enter percentage or second number: \")\n",
    "        \n",
    "        result = calculate(num1, num2, operation)\n",
    "        print(f\"Result: {result}\\n\")\n",
    "        \n",
    "        another = input(\"Do you want to perform another calculation? (yes/no): \").lower()\n",
    "        if another != 'yes':\n",
    "            print(\"Thanks for using the calculator. Goodbye!\")\n",
    "            break\n",
    "\n",
    "# Run the calculator\n",
    "calculator()"
   ]
  },
  {
   "cell_type": "code",
   "execution_count": null,
   "id": "fb2c8305-96ae-4c99-bada-2287658ec98c",
   "metadata": {},
   "outputs": [],
   "source": []
  }
 ],
 "metadata": {
  "kernelspec": {
   "display_name": "Python 3 (ipykernel)",
   "language": "python",
   "name": "python3"
  },
  "language_info": {
   "codemirror_mode": {
    "name": "ipython",
    "version": 3
   },
   "file_extension": ".py",
   "mimetype": "text/x-python",
   "name": "python",
   "nbconvert_exporter": "python",
   "pygments_lexer": "ipython3",
   "version": "3.13.2"
  },
  "widgets": {
   "application/vnd.jupyter.widget-state+json": {
    "state": {},
    "version_major": 2,
    "version_minor": 0
   }
  }
 },
 "nbformat": 4,
 "nbformat_minor": 5
}
